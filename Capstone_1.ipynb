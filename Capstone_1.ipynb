{
 "cells": [
  {
   "cell_type": "code",
   "execution_count": 38,
   "metadata": {},
   "outputs": [
    {
     "name": "stderr",
     "output_type": "stream",
     "text": [
      "/anaconda3/lib/python3.6/site-packages/IPython/core/interactiveshell.py:2785: DtypeWarning: Columns (31) have mixed types. Specify dtype option on import or set low_memory=False.\n",
      "  interactivity=interactivity, compiler=compiler, result=result)\n"
     ]
    }
   ],
   "source": [
    "import pandas as pd\n",
    "df = pd.read_csv('accidents_2005_to_2007.csv')\n",
    "df1 = pd.read_csv('accidents_2009_to_2011.csv')\n",
    "df2 = pd.read_csv('accidents_2012_to_2014.csv')\n",
    "traffic = pd.read_csv('ukTrafficAADF.csv')\n"
   ]
  },
  {
   "cell_type": "code",
   "execution_count": 39,
   "metadata": {},
   "outputs": [
    {
     "name": "stdout",
     "output_type": "stream",
     "text": [
      "(275385, 29)\n"
     ]
    }
   ],
   "source": [
    "print(traffic.shape)"
   ]
  },
  {
   "cell_type": "code",
   "execution_count": 17,
   "metadata": {},
   "outputs": [
    {
     "name": "stdout",
     "output_type": "stream",
     "text": [
      "(570011, 33)\n"
     ]
    }
   ],
   "source": [
    "print(df.shape)"
   ]
  },
  {
   "cell_type": "code",
   "execution_count": 26,
   "metadata": {},
   "outputs": [
    {
     "name": "stdout",
     "output_type": "stream",
     "text": [
      "(469442, 33)\n"
     ]
    }
   ],
   "source": [
    "print(df1.shape)"
   ]
  },
  {
   "cell_type": "code",
   "execution_count": 40,
   "metadata": {},
   "outputs": [
    {
     "name": "stdout",
     "output_type": "stream",
     "text": [
      "AADFYear                          0\n",
      "CP                                0\n",
      "Estimation_method             37573\n",
      "Estimation_method_detailed    37573\n",
      "Region                            0\n",
      "LocalAuthority                    0\n",
      "Road                              0\n",
      "RoadCategory                      0\n",
      "Easting                           0\n",
      "Northing                          0\n",
      "StartJunction                   256\n",
      "EndJunction                     238\n",
      "LinkLength_km                     0\n",
      "LinkLength_miles                  0\n",
      "PedalCycles                       0\n",
      "Motorcycles                       0\n",
      "CarsTaxis                         0\n",
      "BusesCoaches                      0\n",
      "LightGoodsVehicles                0\n",
      "V2AxleRigidHGV                    0\n",
      "V3AxleRigidHGV                    0\n",
      "V4or5AxleRigidHGV                 0\n",
      "V3or4AxleArticHGV                 0\n",
      "V5AxleArticHGV                    0\n",
      "V6orMoreAxleArticHGV              0\n",
      "AllHGVs                           0\n",
      "AllMotorVehicles                  0\n",
      "Lat                               0\n",
      "Lon                               0\n",
      "dtype: int64\n"
     ]
    }
   ],
   "source": [
    "print(traffic.isnull().sum())"
   ]
  },
  {
   "cell_type": "code",
   "execution_count": 28,
   "metadata": {},
   "outputs": [
    {
     "name": "stdout",
     "output_type": "stream",
     "text": [
      "Accident_Index                                      0\n",
      "Location_Easting_OSGR                             101\n",
      "Location_Northing_OSGR                            101\n",
      "Longitude                                         101\n",
      "Latitude                                          101\n",
      "Police_Force                                        0\n",
      "Accident_Severity                                   0\n",
      "Number_of_Vehicles                                  0\n",
      "Number_of_Casualties                                0\n",
      "Date                                                0\n",
      "Day_of_Week                                         0\n",
      "Time                                               67\n",
      "Local_Authority_(District)                          0\n",
      "Local_Authority_(Highway)                           0\n",
      "1st_Road_Class                                      0\n",
      "1st_Road_Number                                     0\n",
      "Road_Type                                           0\n",
      "Speed_limit                                         0\n",
      "Junction_Detail                                570011\n",
      "Junction_Control                               236945\n",
      "2nd_Road_Class                                      0\n",
      "2nd_Road_Number                                     0\n",
      "Pedestrian_Crossing-Human_Control                  17\n",
      "Pedestrian_Crossing-Physical_Facilities            34\n",
      "Light_Conditions                                    0\n",
      "Weather_Conditions                                 20\n",
      "Road_Surface_Conditions                           662\n",
      "Special_Conditions_at_Site                         11\n",
      "Carriageway_Hazards                                23\n",
      "Urban_or_Rural_Area                                 0\n",
      "Did_Police_Officer_Attend_Scene_of_Accident      2375\n",
      "LSOA_of_Accident_Location                       47511\n",
      "Year                                                0\n",
      "dtype: int64\n"
     ]
    }
   ],
   "source": [
    "print(df.isnull().sum())"
   ]
  },
  {
   "cell_type": "code",
   "execution_count": 27,
   "metadata": {},
   "outputs": [
    {
     "name": "stdout",
     "output_type": "stream",
     "text": [
      "(464697, 33)\n"
     ]
    }
   ],
   "source": [
    "print(df2.shape)\n"
   ]
  },
  {
   "cell_type": "code",
   "execution_count": 29,
   "metadata": {},
   "outputs": [
    {
     "name": "stdout",
     "output_type": "stream",
     "text": [
      "Accident_Index                                      0\n",
      "Location_Easting_OSGR                               0\n",
      "Location_Northing_OSGR                              0\n",
      "Longitude                                           0\n",
      "Latitude                                            0\n",
      "Police_Force                                        0\n",
      "Accident_Severity                                   0\n",
      "Number_of_Vehicles                                  0\n",
      "Number_of_Casualties                                0\n",
      "Date                                                0\n",
      "Day_of_Week                                         0\n",
      "Time                                               37\n",
      "Local_Authority_(District)                          0\n",
      "Local_Authority_(Highway)                           0\n",
      "1st_Road_Class                                      0\n",
      "1st_Road_Number                                     0\n",
      "Road_Type                                           0\n",
      "Speed_limit                                         0\n",
      "Junction_Detail                                469442\n",
      "Junction_Control                               187280\n",
      "2nd_Road_Class                                      0\n",
      "2nd_Road_Number                                     0\n",
      "Pedestrian_Crossing-Human_Control                   0\n",
      "Pedestrian_Crossing-Physical_Facilities             0\n",
      "Light_Conditions                                    0\n",
      "Weather_Conditions                                106\n",
      "Road_Surface_Conditions                           541\n",
      "Special_Conditions_at_Site                          2\n",
      "Carriageway_Hazards                                 3\n",
      "Urban_or_Rural_Area                                 0\n",
      "Did_Police_Officer_Attend_Scene_of_Accident       545\n",
      "LSOA_of_Accident_Location                       32009\n",
      "Year                                                0\n",
      "dtype: int64\n"
     ]
    }
   ],
   "source": [
    "print(df1.isnull().sum())"
   ]
  },
  {
   "cell_type": "code",
   "execution_count": 30,
   "metadata": {},
   "outputs": [
    {
     "name": "stdout",
     "output_type": "stream",
     "text": [
      "Accident_Index                                      0\n",
      "Location_Easting_OSGR                               0\n",
      "Location_Northing_OSGR                              0\n",
      "Longitude                                           0\n",
      "Latitude                                            0\n",
      "Police_Force                                        0\n",
      "Accident_Severity                                   0\n",
      "Number_of_Vehicles                                  0\n",
      "Number_of_Casualties                                0\n",
      "Date                                                0\n",
      "Day_of_Week                                         0\n",
      "Time                                               13\n",
      "Local_Authority_(District)                          0\n",
      "Local_Authority_(Highway)                           0\n",
      "1st_Road_Class                                      0\n",
      "1st_Road_Number                                     0\n",
      "Road_Type                                           0\n",
      "Speed_limit                                         0\n",
      "Junction_Detail                                464697\n",
      "Junction_Control                               178610\n",
      "2nd_Road_Class                                      0\n",
      "2nd_Road_Number                                     0\n",
      "Pedestrian_Crossing-Human_Control                   0\n",
      "Pedestrian_Crossing-Physical_Facilities             0\n",
      "Light_Conditions                                    0\n",
      "Weather_Conditions                                  0\n",
      "Road_Surface_Conditions                           755\n",
      "Special_Conditions_at_Site                          2\n",
      "Carriageway_Hazards                                 3\n",
      "Urban_or_Rural_Area                                 0\n",
      "Did_Police_Officer_Attend_Scene_of_Accident         2\n",
      "LSOA_of_Accident_Location                       28718\n",
      "Year                                                0\n",
      "dtype: int64\n"
     ]
    }
   ],
   "source": [
    "print(df2.isnull().sum())"
   ]
  },
  {
   "cell_type": "code",
   "execution_count": 32,
   "metadata": {},
   "outputs": [
    {
     "name": "stdout",
     "output_type": "stream",
     "text": [
      "Accident_Index                                  object\n",
      "Location_Easting_OSGR                          float64\n",
      "Location_Northing_OSGR                         float64\n",
      "Longitude                                      float64\n",
      "Latitude                                       float64\n",
      "Police_Force                                     int64\n",
      "Accident_Severity                                int64\n",
      "Number_of_Vehicles                               int64\n",
      "Number_of_Casualties                             int64\n",
      "Date                                            object\n",
      "Day_of_Week                                      int64\n",
      "Time                                            object\n",
      "Local_Authority_(District)                       int64\n",
      "Local_Authority_(Highway)                       object\n",
      "1st_Road_Class                                   int64\n",
      "1st_Road_Number                                  int64\n",
      "Road_Type                                       object\n",
      "Speed_limit                                      int64\n",
      "Junction_Detail                                float64\n",
      "Junction_Control                                object\n",
      "2nd_Road_Class                                   int64\n",
      "2nd_Road_Number                                  int64\n",
      "Pedestrian_Crossing-Human_Control               object\n",
      "Pedestrian_Crossing-Physical_Facilities         object\n",
      "Light_Conditions                                object\n",
      "Weather_Conditions                              object\n",
      "Road_Surface_Conditions                         object\n",
      "Special_Conditions_at_Site                      object\n",
      "Carriageway_Hazards                             object\n",
      "Urban_or_Rural_Area                              int64\n",
      "Did_Police_Officer_Attend_Scene_of_Accident     object\n",
      "LSOA_of_Accident_Location                       object\n",
      "Year                                             int64\n",
      "dtype: object\n"
     ]
    }
   ],
   "source": [
    "print(df.dtypes)"
   ]
  },
  {
   "cell_type": "code",
   "execution_count": null,
   "metadata": {},
   "outputs": [],
   "source": []
  }
 ],
 "metadata": {
  "kernelspec": {
   "display_name": "Python 3",
   "language": "python",
   "name": "python3"
  },
  "language_info": {
   "codemirror_mode": {
    "name": "ipython",
    "version": 3
   },
   "file_extension": ".py",
   "mimetype": "text/x-python",
   "name": "python",
   "nbconvert_exporter": "python",
   "pygments_lexer": "ipython3",
   "version": "3.6.5"
  }
 },
 "nbformat": 4,
 "nbformat_minor": 2
}
